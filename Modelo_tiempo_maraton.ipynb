{
  "nbformat": 4,
  "nbformat_minor": 0,
  "metadata": {
    "colab": {
      "name": "Modelo_tiempo_maraton.ipynb",
      "provenance": [],
      "authorship_tag": "ABX9TyOioTxlSf5UBK+md8yePiLj",
      "include_colab_link": true
    },
    "kernelspec": {
      "name": "python3",
      "display_name": "Python 3"
    }
  },
  "cells": [
    {
      "cell_type": "markdown",
      "metadata": {
        "id": "view-in-github",
        "colab_type": "text"
      },
      "source": [
        "<a href=\"https://colab.research.google.com/github/gocolman-uru/python-modelos/blob/main/Modelo_tiempo_maraton.ipynb\" target=\"_parent\"><img src=\"https://colab.research.google.com/assets/colab-badge.svg\" alt=\"Open In Colab\"/></a>"
      ]
    },
    {
      "cell_type": "markdown",
      "metadata": {
        "id": "0T-Juo0hHZjX"
      },
      "source": [
        "\n",
        "\n",
        "```\n",
        "# Esto tiene formato de código\n",
        "```\n",
        "\n",
        "Sabelo, modelillo"
      ]
    },
    {
      "cell_type": "code",
      "metadata": {
        "colab": {
          "resources": {
            "http://localhost:8080/nbextensions/google.colab/files.js": {
              "data": "Ly8gQ29weXJpZ2h0IDIwMTcgR29vZ2xlIExMQwovLwovLyBMaWNlbnNlZCB1bmRlciB0aGUgQXBhY2hlIExpY2Vuc2UsIFZlcnNpb24gMi4wICh0aGUgIkxpY2Vuc2UiKTsKLy8geW91IG1heSBub3QgdXNlIHRoaXMgZmlsZSBleGNlcHQgaW4gY29tcGxpYW5jZSB3aXRoIHRoZSBMaWNlbnNlLgovLyBZb3UgbWF5IG9idGFpbiBhIGNvcHkgb2YgdGhlIExpY2Vuc2UgYXQKLy8KLy8gICAgICBodHRwOi8vd3d3LmFwYWNoZS5vcmcvbGljZW5zZXMvTElDRU5TRS0yLjAKLy8KLy8gVW5sZXNzIHJlcXVpcmVkIGJ5IGFwcGxpY2FibGUgbGF3IG9yIGFncmVlZCB0byBpbiB3cml0aW5nLCBzb2Z0d2FyZQovLyBkaXN0cmlidXRlZCB1bmRlciB0aGUgTGljZW5zZSBpcyBkaXN0cmlidXRlZCBvbiBhbiAiQVMgSVMiIEJBU0lTLAovLyBXSVRIT1VUIFdBUlJBTlRJRVMgT1IgQ09ORElUSU9OUyBPRiBBTlkgS0lORCwgZWl0aGVyIGV4cHJlc3Mgb3IgaW1wbGllZC4KLy8gU2VlIHRoZSBMaWNlbnNlIGZvciB0aGUgc3BlY2lmaWMgbGFuZ3VhZ2UgZ292ZXJuaW5nIHBlcm1pc3Npb25zIGFuZAovLyBsaW1pdGF0aW9ucyB1bmRlciB0aGUgTGljZW5zZS4KCi8qKgogKiBAZmlsZW92ZXJ2aWV3IEhlbHBlcnMgZm9yIGdvb2dsZS5jb2xhYiBQeXRob24gbW9kdWxlLgogKi8KKGZ1bmN0aW9uKHNjb3BlKSB7CmZ1bmN0aW9uIHNwYW4odGV4dCwgc3R5bGVBdHRyaWJ1dGVzID0ge30pIHsKICBjb25zdCBlbGVtZW50ID0gZG9jdW1lbnQuY3JlYXRlRWxlbWVudCgnc3BhbicpOwogIGVsZW1lbnQudGV4dENvbnRlbnQgPSB0ZXh0OwogIGZvciAoY29uc3Qga2V5IG9mIE9iamVjdC5rZXlzKHN0eWxlQXR0cmlidXRlcykpIHsKICAgIGVsZW1lbnQuc3R5bGVba2V5XSA9IHN0eWxlQXR0cmlidXRlc1trZXldOwogIH0KICByZXR1cm4gZWxlbWVudDsKfQoKLy8gTWF4IG51bWJlciBvZiBieXRlcyB3aGljaCB3aWxsIGJlIHVwbG9hZGVkIGF0IGEgdGltZS4KY29uc3QgTUFYX1BBWUxPQURfU0laRSA9IDEwMCAqIDEwMjQ7CgpmdW5jdGlvbiBfdXBsb2FkRmlsZXMoaW5wdXRJZCwgb3V0cHV0SWQpIHsKICBjb25zdCBzdGVwcyA9IHVwbG9hZEZpbGVzU3RlcChpbnB1dElkLCBvdXRwdXRJZCk7CiAgY29uc3Qgb3V0cHV0RWxlbWVudCA9IGRvY3VtZW50LmdldEVsZW1lbnRCeUlkKG91dHB1dElkKTsKICAvLyBDYWNoZSBzdGVwcyBvbiB0aGUgb3V0cHV0RWxlbWVudCB0byBtYWtlIGl0IGF2YWlsYWJsZSBmb3IgdGhlIG5leHQgY2FsbAogIC8vIHRvIHVwbG9hZEZpbGVzQ29udGludWUgZnJvbSBQeXRob24uCiAgb3V0cHV0RWxlbWVudC5zdGVwcyA9IHN0ZXBzOwoKICByZXR1cm4gX3VwbG9hZEZpbGVzQ29udGludWUob3V0cHV0SWQpOwp9CgovLyBUaGlzIGlzIHJvdWdobHkgYW4gYXN5bmMgZ2VuZXJhdG9yIChub3Qgc3VwcG9ydGVkIGluIHRoZSBicm93c2VyIHlldCksCi8vIHdoZXJlIHRoZXJlIGFyZSBtdWx0aXBsZSBhc3luY2hyb25vdXMgc3RlcHMgYW5kIHRoZSBQeXRob24gc2lkZSBpcyBnb2luZwovLyB0byBwb2xsIGZvciBjb21wbGV0aW9uIG9mIGVhY2ggc3RlcC4KLy8gVGhpcyB1c2VzIGEgUHJvbWlzZSB0byBibG9jayB0aGUgcHl0aG9uIHNpZGUgb24gY29tcGxldGlvbiBvZiBlYWNoIHN0ZXAsCi8vIHRoZW4gcGFzc2VzIHRoZSByZXN1bHQgb2YgdGhlIHByZXZpb3VzIHN0ZXAgYXMgdGhlIGlucHV0IHRvIHRoZSBuZXh0IHN0ZXAuCmZ1bmN0aW9uIF91cGxvYWRGaWxlc0NvbnRpbnVlKG91dHB1dElkKSB7CiAgY29uc3Qgb3V0cHV0RWxlbWVudCA9IGRvY3VtZW50LmdldEVsZW1lbnRCeUlkKG91dHB1dElkKTsKICBjb25zdCBzdGVwcyA9IG91dHB1dEVsZW1lbnQuc3RlcHM7CgogIGNvbnN0IG5leHQgPSBzdGVwcy5uZXh0KG91dHB1dEVsZW1lbnQubGFzdFByb21pc2VWYWx1ZSk7CiAgcmV0dXJuIFByb21pc2UucmVzb2x2ZShuZXh0LnZhbHVlLnByb21pc2UpLnRoZW4oKHZhbHVlKSA9PiB7CiAgICAvLyBDYWNoZSB0aGUgbGFzdCBwcm9taXNlIHZhbHVlIHRvIG1ha2UgaXQgYXZhaWxhYmxlIHRvIHRoZSBuZXh0CiAgICAvLyBzdGVwIG9mIHRoZSBnZW5lcmF0b3IuCiAgICBvdXRwdXRFbGVtZW50Lmxhc3RQcm9taXNlVmFsdWUgPSB2YWx1ZTsKICAgIHJldHVybiBuZXh0LnZhbHVlLnJlc3BvbnNlOwogIH0pOwp9CgovKioKICogR2VuZXJhdG9yIGZ1bmN0aW9uIHdoaWNoIGlzIGNhbGxlZCBiZXR3ZWVuIGVhY2ggYXN5bmMgc3RlcCBvZiB0aGUgdXBsb2FkCiAqIHByb2Nlc3MuCiAqIEBwYXJhbSB7c3RyaW5nfSBpbnB1dElkIEVsZW1lbnQgSUQgb2YgdGhlIGlucHV0IGZpbGUgcGlja2VyIGVsZW1lbnQuCiAqIEBwYXJhbSB7c3RyaW5nfSBvdXRwdXRJZCBFbGVtZW50IElEIG9mIHRoZSBvdXRwdXQgZGlzcGxheS4KICogQHJldHVybiB7IUl0ZXJhYmxlPCFPYmplY3Q+fSBJdGVyYWJsZSBvZiBuZXh0IHN0ZXBzLgogKi8KZnVuY3Rpb24qIHVwbG9hZEZpbGVzU3RlcChpbnB1dElkLCBvdXRwdXRJZCkgewogIGNvbnN0IGlucHV0RWxlbWVudCA9IGRvY3VtZW50LmdldEVsZW1lbnRCeUlkKGlucHV0SWQpOwogIGlucHV0RWxlbWVudC5kaXNhYmxlZCA9IGZhbHNlOwoKICBjb25zdCBvdXRwdXRFbGVtZW50ID0gZG9jdW1lbnQuZ2V0RWxlbWVudEJ5SWQob3V0cHV0SWQpOwogIG91dHB1dEVsZW1lbnQuaW5uZXJIVE1MID0gJyc7CgogIGNvbnN0IHBpY2tlZFByb21pc2UgPSBuZXcgUHJvbWlzZSgocmVzb2x2ZSkgPT4gewogICAgaW5wdXRFbGVtZW50LmFkZEV2ZW50TGlzdGVuZXIoJ2NoYW5nZScsIChlKSA9PiB7CiAgICAgIHJlc29sdmUoZS50YXJnZXQuZmlsZXMpOwogICAgfSk7CiAgfSk7CgogIGNvbnN0IGNhbmNlbCA9IGRvY3VtZW50LmNyZWF0ZUVsZW1lbnQoJ2J1dHRvbicpOwogIGlucHV0RWxlbWVudC5wYXJlbnRFbGVtZW50LmFwcGVuZENoaWxkKGNhbmNlbCk7CiAgY2FuY2VsLnRleHRDb250ZW50ID0gJ0NhbmNlbCB1cGxvYWQnOwogIGNvbnN0IGNhbmNlbFByb21pc2UgPSBuZXcgUHJvbWlzZSgocmVzb2x2ZSkgPT4gewogICAgY2FuY2VsLm9uY2xpY2sgPSAoKSA9PiB7CiAgICAgIHJlc29sdmUobnVsbCk7CiAgICB9OwogIH0pOwoKICAvLyBXYWl0IGZvciB0aGUgdXNlciB0byBwaWNrIHRoZSBmaWxlcy4KICBjb25zdCBmaWxlcyA9IHlpZWxkIHsKICAgIHByb21pc2U6IFByb21pc2UucmFjZShbcGlja2VkUHJvbWlzZSwgY2FuY2VsUHJvbWlzZV0pLAogICAgcmVzcG9uc2U6IHsKICAgICAgYWN0aW9uOiAnc3RhcnRpbmcnLAogICAgfQogIH07CgogIGNhbmNlbC5yZW1vdmUoKTsKCiAgLy8gRGlzYWJsZSB0aGUgaW5wdXQgZWxlbWVudCBzaW5jZSBmdXJ0aGVyIHBpY2tzIGFyZSBub3QgYWxsb3dlZC4KICBpbnB1dEVsZW1lbnQuZGlzYWJsZWQgPSB0cnVlOwoKICBpZiAoIWZpbGVzKSB7CiAgICByZXR1cm4gewogICAgICByZXNwb25zZTogewogICAgICAgIGFjdGlvbjogJ2NvbXBsZXRlJywKICAgICAgfQogICAgfTsKICB9CgogIGZvciAoY29uc3QgZmlsZSBvZiBmaWxlcykgewogICAgY29uc3QgbGkgPSBkb2N1bWVudC5jcmVhdGVFbGVtZW50KCdsaScpOwogICAgbGkuYXBwZW5kKHNwYW4oZmlsZS5uYW1lLCB7Zm9udFdlaWdodDogJ2JvbGQnfSkpOwogICAgbGkuYXBwZW5kKHNwYW4oCiAgICAgICAgYCgke2ZpbGUudHlwZSB8fCAnbi9hJ30pIC0gJHtmaWxlLnNpemV9IGJ5dGVzLCBgICsKICAgICAgICBgbGFzdCBtb2RpZmllZDogJHsKICAgICAgICAgICAgZmlsZS5sYXN0TW9kaWZpZWREYXRlID8gZmlsZS5sYXN0TW9kaWZpZWREYXRlLnRvTG9jYWxlRGF0ZVN0cmluZygpIDoKICAgICAgICAgICAgICAgICAgICAgICAgICAgICAgICAgICAgJ24vYSd9IC0gYCkpOwogICAgY29uc3QgcGVyY2VudCA9IHNwYW4oJzAlIGRvbmUnKTsKICAgIGxpLmFwcGVuZENoaWxkKHBlcmNlbnQpOwoKICAgIG91dHB1dEVsZW1lbnQuYXBwZW5kQ2hpbGQobGkpOwoKICAgIGNvbnN0IGZpbGVEYXRhUHJvbWlzZSA9IG5ldyBQcm9taXNlKChyZXNvbHZlKSA9PiB7CiAgICAgIGNvbnN0IHJlYWRlciA9IG5ldyBGaWxlUmVhZGVyKCk7CiAgICAgIHJlYWRlci5vbmxvYWQgPSAoZSkgPT4gewogICAgICAgIHJlc29sdmUoZS50YXJnZXQucmVzdWx0KTsKICAgICAgfTsKICAgICAgcmVhZGVyLnJlYWRBc0FycmF5QnVmZmVyKGZpbGUpOwogICAgfSk7CiAgICAvLyBXYWl0IGZvciB0aGUgZGF0YSB0byBiZSByZWFkeS4KICAgIGxldCBmaWxlRGF0YSA9IHlpZWxkIHsKICAgICAgcHJvbWlzZTogZmlsZURhdGFQcm9taXNlLAogICAgICByZXNwb25zZTogewogICAgICAgIGFjdGlvbjogJ2NvbnRpbnVlJywKICAgICAgfQogICAgfTsKCiAgICAvLyBVc2UgYSBjaHVua2VkIHNlbmRpbmcgdG8gYXZvaWQgbWVzc2FnZSBzaXplIGxpbWl0cy4gU2VlIGIvNjIxMTU2NjAuCiAgICBsZXQgcG9zaXRpb24gPSAwOwogICAgd2hpbGUgKHBvc2l0aW9uIDwgZmlsZURhdGEuYnl0ZUxlbmd0aCkgewogICAgICBjb25zdCBsZW5ndGggPSBNYXRoLm1pbihmaWxlRGF0YS5ieXRlTGVuZ3RoIC0gcG9zaXRpb24sIE1BWF9QQVlMT0FEX1NJWkUpOwogICAgICBjb25zdCBjaHVuayA9IG5ldyBVaW50OEFycmF5KGZpbGVEYXRhLCBwb3NpdGlvbiwgbGVuZ3RoKTsKICAgICAgcG9zaXRpb24gKz0gbGVuZ3RoOwoKICAgICAgY29uc3QgYmFzZTY0ID0gYnRvYShTdHJpbmcuZnJvbUNoYXJDb2RlLmFwcGx5KG51bGwsIGNodW5rKSk7CiAgICAgIHlpZWxkIHsKICAgICAgICByZXNwb25zZTogewogICAgICAgICAgYWN0aW9uOiAnYXBwZW5kJywKICAgICAgICAgIGZpbGU6IGZpbGUubmFtZSwKICAgICAgICAgIGRhdGE6IGJhc2U2NCwKICAgICAgICB9LAogICAgICB9OwogICAgICBwZXJjZW50LnRleHRDb250ZW50ID0KICAgICAgICAgIGAke01hdGgucm91bmQoKHBvc2l0aW9uIC8gZmlsZURhdGEuYnl0ZUxlbmd0aCkgKiAxMDApfSUgZG9uZWA7CiAgICB9CiAgfQoKICAvLyBBbGwgZG9uZS4KICB5aWVsZCB7CiAgICByZXNwb25zZTogewogICAgICBhY3Rpb246ICdjb21wbGV0ZScsCiAgICB9CiAgfTsKfQoKc2NvcGUuZ29vZ2xlID0gc2NvcGUuZ29vZ2xlIHx8IHt9OwpzY29wZS5nb29nbGUuY29sYWIgPSBzY29wZS5nb29nbGUuY29sYWIgfHwge307CnNjb3BlLmdvb2dsZS5jb2xhYi5fZmlsZXMgPSB7CiAgX3VwbG9hZEZpbGVzLAogIF91cGxvYWRGaWxlc0NvbnRpbnVlLAp9Owp9KShzZWxmKTsK",
              "ok": true,
              "headers": [
                [
                  "content-type",
                  "application/javascript"
                ]
              ],
              "status": 200,
              "status_text": ""
            }
          },
          "base_uri": "https://localhost:8080/",
          "height": 73
        },
        "id": "x4nvLt6MHcgy",
        "outputId": "f44a0917-3085-4b4a-b317-81f8a5dcf435"
      },
      "source": [
        "from google.colab import files\n",
        "uploaded = files.upload()\n"
      ],
      "execution_count": 1,
      "outputs": [
        {
          "output_type": "display_data",
          "data": {
            "text/html": [
              "\n",
              "     <input type=\"file\" id=\"files-d012933c-2400-4835-82e4-d6eaa7a7f694\" name=\"files[]\" multiple disabled\n",
              "        style=\"border:none\" />\n",
              "     <output id=\"result-d012933c-2400-4835-82e4-d6eaa7a7f694\">\n",
              "      Upload widget is only available when the cell has been executed in the\n",
              "      current browser session. Please rerun this cell to enable.\n",
              "      </output>\n",
              "      <script src=\"/nbextensions/google.colab/files.js\"></script> "
            ],
            "text/plain": [
              "<IPython.core.display.HTML object>"
            ]
          },
          "metadata": {
            "tags": []
          }
        },
        {
          "output_type": "stream",
          "text": [
            "Saving MarathonData.csv to MarathonData.csv\n"
          ],
          "name": "stdout"
        }
      ]
    },
    {
      "cell_type": "code",
      "metadata": {
        "id": "7ShFKXHsJJTT"
      },
      "source": [
        "import io\n",
        "import pandas as pd\n",
        "datos_maraton = pd.read_csv(io.BytesIO(uploaded['MarathonData.csv']))"
      ],
      "execution_count": 4,
      "outputs": []
    },
    {
      "cell_type": "code",
      "metadata": {
        "colab": {
          "base_uri": "https://localhost:8080/",
          "height": 195
        },
        "id": "5ywEHJBgZ_EB",
        "outputId": "aed7a023-7588-4956-bbe4-b281843c587e"
      },
      "source": [
        "datos_maraton.head()\n"
      ],
      "execution_count": 5,
      "outputs": [
        {
          "output_type": "execute_result",
          "data": {
            "text/html": [
              "<div>\n",
              "<style scoped>\n",
              "    .dataframe tbody tr th:only-of-type {\n",
              "        vertical-align: middle;\n",
              "    }\n",
              "\n",
              "    .dataframe tbody tr th {\n",
              "        vertical-align: top;\n",
              "    }\n",
              "\n",
              "    .dataframe thead th {\n",
              "        text-align: right;\n",
              "    }\n",
              "</style>\n",
              "<table border=\"1\" class=\"dataframe\">\n",
              "  <thead>\n",
              "    <tr style=\"text-align: right;\">\n",
              "      <th></th>\n",
              "      <th>id</th>\n",
              "      <th>Marathon</th>\n",
              "      <th>Name</th>\n",
              "      <th>Category</th>\n",
              "      <th>km4week</th>\n",
              "      <th>sp4week</th>\n",
              "      <th>CrossTraining</th>\n",
              "      <th>Wall21</th>\n",
              "      <th>MarathonTime</th>\n",
              "      <th>CATEGORY</th>\n",
              "    </tr>\n",
              "  </thead>\n",
              "  <tbody>\n",
              "    <tr>\n",
              "      <th>0</th>\n",
              "      <td>1</td>\n",
              "      <td>Prague17</td>\n",
              "      <td>Blair MORGAN</td>\n",
              "      <td>MAM</td>\n",
              "      <td>132.8</td>\n",
              "      <td>14.434783</td>\n",
              "      <td>NaN</td>\n",
              "      <td>1.16</td>\n",
              "      <td>2.37</td>\n",
              "      <td>A</td>\n",
              "    </tr>\n",
              "    <tr>\n",
              "      <th>1</th>\n",
              "      <td>2</td>\n",
              "      <td>Prague17</td>\n",
              "      <td>Robert Heczko</td>\n",
              "      <td>MAM</td>\n",
              "      <td>68.6</td>\n",
              "      <td>13.674419</td>\n",
              "      <td>NaN</td>\n",
              "      <td>1.23</td>\n",
              "      <td>2.59</td>\n",
              "      <td>A</td>\n",
              "    </tr>\n",
              "    <tr>\n",
              "      <th>2</th>\n",
              "      <td>3</td>\n",
              "      <td>Prague17</td>\n",
              "      <td>Michon Jerome</td>\n",
              "      <td>MAM</td>\n",
              "      <td>82.7</td>\n",
              "      <td>13.520436</td>\n",
              "      <td>NaN</td>\n",
              "      <td>1.30</td>\n",
              "      <td>2.66</td>\n",
              "      <td>A</td>\n",
              "    </tr>\n",
              "    <tr>\n",
              "      <th>3</th>\n",
              "      <td>4</td>\n",
              "      <td>Prague17</td>\n",
              "      <td>Daniel Or lek</td>\n",
              "      <td>M45</td>\n",
              "      <td>137.5</td>\n",
              "      <td>12.258544</td>\n",
              "      <td>NaN</td>\n",
              "      <td>1.32</td>\n",
              "      <td>2.68</td>\n",
              "      <td>A</td>\n",
              "    </tr>\n",
              "    <tr>\n",
              "      <th>4</th>\n",
              "      <td>5</td>\n",
              "      <td>Prague17</td>\n",
              "      <td>Luk ? Mr zek</td>\n",
              "      <td>MAM</td>\n",
              "      <td>84.6</td>\n",
              "      <td>13.945055</td>\n",
              "      <td>NaN</td>\n",
              "      <td>1.36</td>\n",
              "      <td>2.74</td>\n",
              "      <td>A</td>\n",
              "    </tr>\n",
              "  </tbody>\n",
              "</table>\n",
              "</div>"
            ],
            "text/plain": [
              "   id  Marathon           Name  ... Wall21  MarathonTime  CATEGORY\n",
              "0   1  Prague17   Blair MORGAN  ...   1.16          2.37         A\n",
              "1   2  Prague17  Robert Heczko  ...   1.23          2.59         A\n",
              "2   3  Prague17  Michon Jerome  ...   1.30          2.66         A\n",
              "3   4  Prague17  Daniel Or lek  ...   1.32          2.68         A\n",
              "4   5  Prague17   Luk ? Mr zek  ...   1.36          2.74         A\n",
              "\n",
              "[5 rows x 10 columns]"
            ]
          },
          "metadata": {
            "tags": []
          },
          "execution_count": 5
        }
      ]
    },
    {
      "cell_type": "code",
      "metadata": {
        "colab": {
          "base_uri": "https://localhost:8080/"
        },
        "id": "JC8lrnqiYU7d",
        "outputId": "710300ea-6a82-4b79-a227-469f1b64d294"
      },
      "source": [
        "datos_maraton['Name']"
      ],
      "execution_count": 6,
      "outputs": [
        {
          "output_type": "execute_result",
          "data": {
            "text/plain": [
              "0         Blair MORGAN\n",
              "1        Robert Heczko\n",
              "2        Michon Jerome\n",
              "3        Daniel Or lek\n",
              "4         Luk ? Mr zek\n",
              "            ...       \n",
              "82    Stefano Vegliani\n",
              "83      Andrej Madliak\n",
              "84          Yoi Ohsako\n",
              "85          Simon Dunn\n",
              "86         Pavel ?imek\n",
              "Name: Name, Length: 87, dtype: object"
            ]
          },
          "metadata": {
            "tags": []
          },
          "execution_count": 6
        }
      ]
    },
    {
      "cell_type": "code",
      "metadata": {
        "colab": {
          "base_uri": "https://localhost:8080/"
        },
        "id": "gr4bE_FTY1xz",
        "outputId": "ce0d57e7-00c9-4ae1-bac4-e810b3fa9631"
      },
      "source": [
        "datos_maraton.info()\n"
      ],
      "execution_count": 7,
      "outputs": [
        {
          "output_type": "stream",
          "text": [
            "<class 'pandas.core.frame.DataFrame'>\n",
            "RangeIndex: 87 entries, 0 to 86\n",
            "Data columns (total 10 columns):\n",
            " #   Column         Non-Null Count  Dtype  \n",
            "---  ------         --------------  -----  \n",
            " 0   id             87 non-null     int64  \n",
            " 1   Marathon       87 non-null     object \n",
            " 2   Name           87 non-null     object \n",
            " 3   Category       81 non-null     object \n",
            " 4   km4week        87 non-null     float64\n",
            " 5   sp4week        87 non-null     float64\n",
            " 6   CrossTraining  13 non-null     object \n",
            " 7   Wall21         87 non-null     object \n",
            " 8   MarathonTime   87 non-null     float64\n",
            " 9   CATEGORY       87 non-null     object \n",
            "dtypes: float64(3), int64(1), object(6)\n",
            "memory usage: 6.9+ KB\n"
          ],
          "name": "stdout"
        }
      ]
    },
    {
      "cell_type": "code",
      "metadata": {
        "id": "4y-tViD4Y3ds"
      },
      "source": [
        "datos_maraton['Wall21'] = pd.to_numeric(datos_maraton['Wall21'],errors='coerce')"
      ],
      "execution_count": 9,
      "outputs": []
    },
    {
      "cell_type": "code",
      "metadata": {
        "colab": {
          "base_uri": "https://localhost:8080/",
          "height": 284
        },
        "id": "hqyg5ot0ZoZZ",
        "outputId": "ed6a5fc9-fd26-49bf-df8b-a09778852f4d"
      },
      "source": [
        "datos_maraton.describe()"
      ],
      "execution_count": 10,
      "outputs": [
        {
          "output_type": "execute_result",
          "data": {
            "text/html": [
              "<div>\n",
              "<style scoped>\n",
              "    .dataframe tbody tr th:only-of-type {\n",
              "        vertical-align: middle;\n",
              "    }\n",
              "\n",
              "    .dataframe tbody tr th {\n",
              "        vertical-align: top;\n",
              "    }\n",
              "\n",
              "    .dataframe thead th {\n",
              "        text-align: right;\n",
              "    }\n",
              "</style>\n",
              "<table border=\"1\" class=\"dataframe\">\n",
              "  <thead>\n",
              "    <tr style=\"text-align: right;\">\n",
              "      <th></th>\n",
              "      <th>id</th>\n",
              "      <th>km4week</th>\n",
              "      <th>sp4week</th>\n",
              "      <th>Wall21</th>\n",
              "      <th>MarathonTime</th>\n",
              "    </tr>\n",
              "  </thead>\n",
              "  <tbody>\n",
              "    <tr>\n",
              "      <th>count</th>\n",
              "      <td>87.000000</td>\n",
              "      <td>87.000000</td>\n",
              "      <td>87.000000</td>\n",
              "      <td>81.000000</td>\n",
              "      <td>87.000000</td>\n",
              "    </tr>\n",
              "    <tr>\n",
              "      <th>mean</th>\n",
              "      <td>44.000000</td>\n",
              "      <td>62.347126</td>\n",
              "      <td>139.840706</td>\n",
              "      <td>1.630617</td>\n",
              "      <td>3.319080</td>\n",
              "    </tr>\n",
              "    <tr>\n",
              "      <th>std</th>\n",
              "      <td>25.258662</td>\n",
              "      <td>26.956019</td>\n",
              "      <td>1191.427864</td>\n",
              "      <td>0.210490</td>\n",
              "      <td>0.376923</td>\n",
              "    </tr>\n",
              "    <tr>\n",
              "      <th>min</th>\n",
              "      <td>1.000000</td>\n",
              "      <td>17.900000</td>\n",
              "      <td>8.031414</td>\n",
              "      <td>1.160000</td>\n",
              "      <td>2.370000</td>\n",
              "    </tr>\n",
              "    <tr>\n",
              "      <th>25%</th>\n",
              "      <td>22.500000</td>\n",
              "      <td>44.200000</td>\n",
              "      <td>11.498168</td>\n",
              "      <td>1.450000</td>\n",
              "      <td>3.045000</td>\n",
              "    </tr>\n",
              "    <tr>\n",
              "      <th>50%</th>\n",
              "      <td>44.000000</td>\n",
              "      <td>58.800000</td>\n",
              "      <td>12.163424</td>\n",
              "      <td>1.620000</td>\n",
              "      <td>3.320000</td>\n",
              "    </tr>\n",
              "    <tr>\n",
              "      <th>75%</th>\n",
              "      <td>65.500000</td>\n",
              "      <td>77.500000</td>\n",
              "      <td>12.854036</td>\n",
              "      <td>1.760000</td>\n",
              "      <td>3.605000</td>\n",
              "    </tr>\n",
              "    <tr>\n",
              "      <th>max</th>\n",
              "      <td>87.000000</td>\n",
              "      <td>137.500000</td>\n",
              "      <td>11125.000000</td>\n",
              "      <td>2.050000</td>\n",
              "      <td>3.980000</td>\n",
              "    </tr>\n",
              "  </tbody>\n",
              "</table>\n",
              "</div>"
            ],
            "text/plain": [
              "              id     km4week       sp4week     Wall21  MarathonTime\n",
              "count  87.000000   87.000000     87.000000  81.000000     87.000000\n",
              "mean   44.000000   62.347126    139.840706   1.630617      3.319080\n",
              "std    25.258662   26.956019   1191.427864   0.210490      0.376923\n",
              "min     1.000000   17.900000      8.031414   1.160000      2.370000\n",
              "25%    22.500000   44.200000     11.498168   1.450000      3.045000\n",
              "50%    44.000000   58.800000     12.163424   1.620000      3.320000\n",
              "75%    65.500000   77.500000     12.854036   1.760000      3.605000\n",
              "max    87.000000  137.500000  11125.000000   2.050000      3.980000"
            ]
          },
          "metadata": {
            "tags": []
          },
          "execution_count": 10
        }
      ]
    },
    {
      "cell_type": "markdown",
      "metadata": {
        "id": "_YXfcj9EY_Y9"
      },
      "source": [
        ""
      ]
    },
    {
      "cell_type": "code",
      "metadata": {
        "colab": {
          "base_uri": "https://localhost:8080/",
          "height": 398
        },
        "id": "ypU1OSCsZ1cS",
        "outputId": "fc915ca1-8866-4662-dda5-e7819a195b9e"
      },
      "source": [
        "datos_maraton.hist()\n"
      ],
      "execution_count": 11,
      "outputs": [
        {
          "output_type": "execute_result",
          "data": {
            "text/plain": [
              "array([[<matplotlib.axes._subplots.AxesSubplot object at 0x7f37eacdab70>,\n",
              "        <matplotlib.axes._subplots.AxesSubplot object at 0x7f37eacb0e48>],\n",
              "       [<matplotlib.axes._subplots.AxesSubplot object at 0x7f37eac720f0>,\n",
              "        <matplotlib.axes._subplots.AxesSubplot object at 0x7f37eac24358>],\n",
              "       [<matplotlib.axes._subplots.AxesSubplot object at 0x7f37eac2d9b0>,\n",
              "        <matplotlib.axes._subplots.AxesSubplot object at 0x7f37eac00eb8>]],\n",
              "      dtype=object)"
            ]
          },
          "metadata": {
            "tags": []
          },
          "execution_count": 11
        },
        {
          "output_type": "display_data",
          "data": {
            "image/png": "[encoded data removed]",
            "text/plain": [
              "<Figure size 432x288 with 6 Axes>"
            ]
          },
          "metadata": {
            "tags": [],
            "needs_background": "light"
          }
        }
      ]
    },
    {
      "cell_type": "code",
      "metadata": {
        "colab": {
          "base_uri": "https://localhost:8080/",
          "height": 402
        },
        "id": "u_3uXLXnZ3hk",
        "outputId": "6ec7641c-dd92-4cf4-93e0-3f19bd00478a"
      },
      "source": [
        "datos_maraton = datos_maraton.drop(columns=['Name'])\n",
        "datos_maraton = datos_maraton.drop(columns=['id'])\n",
        "datos_maraton = datos_maraton.drop(columns=['Marathon'])\n",
        "datos_maraton = datos_maraton.drop(columns=['CATEGORY'])\n",
        "datos_maraton"
      ],
      "execution_count": 12,
      "outputs": [
        {
          "output_type": "execute_result",
          "data": {
            "text/html": [
              "<div>\n",
              "<style scoped>\n",
              "    .dataframe tbody tr th:only-of-type {\n",
              "        vertical-align: middle;\n",
              "    }\n",
              "\n",
              "    .dataframe tbody tr th {\n",
              "        vertical-align: top;\n",
              "    }\n",
              "\n",
              "    .dataframe thead th {\n",
              "        text-align: right;\n",
              "    }\n",
              "</style>\n",
              "<table border=\"1\" class=\"dataframe\">\n",
              "  <thead>\n",
              "    <tr style=\"text-align: right;\">\n",
              "      <th></th>\n",
              "      <th>Category</th>\n",
              "      <th>km4week</th>\n",
              "      <th>sp4week</th>\n",
              "      <th>CrossTraining</th>\n",
              "      <th>Wall21</th>\n",
              "      <th>MarathonTime</th>\n",
              "    </tr>\n",
              "  </thead>\n",
              "  <tbody>\n",
              "    <tr>\n",
              "      <th>0</th>\n",
              "      <td>MAM</td>\n",
              "      <td>132.8</td>\n",
              "      <td>14.434783</td>\n",
              "      <td>NaN</td>\n",
              "      <td>1.16</td>\n",
              "      <td>2.37</td>\n",
              "    </tr>\n",
              "    <tr>\n",
              "      <th>1</th>\n",
              "      <td>MAM</td>\n",
              "      <td>68.6</td>\n",
              "      <td>13.674419</td>\n",
              "      <td>NaN</td>\n",
              "      <td>1.23</td>\n",
              "      <td>2.59</td>\n",
              "    </tr>\n",
              "    <tr>\n",
              "      <th>2</th>\n",
              "      <td>MAM</td>\n",
              "      <td>82.7</td>\n",
              "      <td>13.520436</td>\n",
              "      <td>NaN</td>\n",
              "      <td>1.30</td>\n",
              "      <td>2.66</td>\n",
              "    </tr>\n",
              "    <tr>\n",
              "      <th>3</th>\n",
              "      <td>M45</td>\n",
              "      <td>137.5</td>\n",
              "      <td>12.258544</td>\n",
              "      <td>NaN</td>\n",
              "      <td>1.32</td>\n",
              "      <td>2.68</td>\n",
              "    </tr>\n",
              "    <tr>\n",
              "      <th>4</th>\n",
              "      <td>MAM</td>\n",
              "      <td>84.6</td>\n",
              "      <td>13.945055</td>\n",
              "      <td>NaN</td>\n",
              "      <td>1.36</td>\n",
              "      <td>2.74</td>\n",
              "    </tr>\n",
              "    <tr>\n",
              "      <th>...</th>\n",
              "      <td>...</td>\n",
              "      <td>...</td>\n",
              "      <td>...</td>\n",
              "      <td>...</td>\n",
              "      <td>...</td>\n",
              "      <td>...</td>\n",
              "    </tr>\n",
              "    <tr>\n",
              "      <th>82</th>\n",
              "      <td>M55</td>\n",
              "      <td>50.0</td>\n",
              "      <td>10.830325</td>\n",
              "      <td>NaN</td>\n",
              "      <td>2.02</td>\n",
              "      <td>3.93</td>\n",
              "    </tr>\n",
              "    <tr>\n",
              "      <th>83</th>\n",
              "      <td>M40</td>\n",
              "      <td>33.6</td>\n",
              "      <td>10.130653</td>\n",
              "      <td>ciclista 3h</td>\n",
              "      <td>1.94</td>\n",
              "      <td>3.93</td>\n",
              "    </tr>\n",
              "    <tr>\n",
              "      <th>84</th>\n",
              "      <td>M40</td>\n",
              "      <td>55.4</td>\n",
              "      <td>11.043189</td>\n",
              "      <td>NaN</td>\n",
              "      <td>1.94</td>\n",
              "      <td>3.94</td>\n",
              "    </tr>\n",
              "    <tr>\n",
              "      <th>85</th>\n",
              "      <td>M45</td>\n",
              "      <td>33.2</td>\n",
              "      <td>11.066667</td>\n",
              "      <td>NaN</td>\n",
              "      <td>2.05</td>\n",
              "      <td>3.95</td>\n",
              "    </tr>\n",
              "    <tr>\n",
              "      <th>86</th>\n",
              "      <td>M40</td>\n",
              "      <td>17.9</td>\n",
              "      <td>10.848485</td>\n",
              "      <td>ciclista 5h</td>\n",
              "      <td>2.05</td>\n",
              "      <td>3.98</td>\n",
              "    </tr>\n",
              "  </tbody>\n",
              "</table>\n",
              "<p>87 rows × 6 columns</p>\n",
              "</div>"
            ],
            "text/plain": [
              "   Category  km4week    sp4week CrossTraining  Wall21  MarathonTime\n",
              "0       MAM    132.8  14.434783           NaN    1.16          2.37\n",
              "1       MAM     68.6  13.674419           NaN    1.23          2.59\n",
              "2       MAM     82.7  13.520436           NaN    1.30          2.66\n",
              "3       M45    137.5  12.258544           NaN    1.32          2.68\n",
              "4       MAM     84.6  13.945055           NaN    1.36          2.74\n",
              "..      ...      ...        ...           ...     ...           ...\n",
              "82      M55     50.0  10.830325           NaN    2.02          3.93\n",
              "83      M40     33.6  10.130653   ciclista 3h    1.94          3.93\n",
              "84      M40     55.4  11.043189           NaN    1.94          3.94\n",
              "85      M45     33.2  11.066667           NaN    2.05          3.95\n",
              "86      M40     17.9  10.848485   ciclista 5h    2.05          3.98\n",
              "\n",
              "[87 rows x 6 columns]"
            ]
          },
          "metadata": {
            "tags": []
          },
          "execution_count": 12
        }
      ]
    },
    {
      "cell_type": "code",
      "metadata": {
        "colab": {
          "base_uri": "https://localhost:8080/"
        },
        "id": "c8arjXEnaei5",
        "outputId": "fc513488-4616-4e61-efe2-732735f58bd0"
      },
      "source": [
        "datos_maraton.isna().sum()"
      ],
      "execution_count": 13,
      "outputs": [
        {
          "output_type": "execute_result",
          "data": {
            "text/plain": [
              "Category          6\n",
              "km4week           0\n",
              "sp4week           0\n",
              "CrossTraining    74\n",
              "Wall21            6\n",
              "MarathonTime      0\n",
              "dtype: int64"
            ]
          },
          "metadata": {
            "tags": []
          },
          "execution_count": 13
        }
      ]
    },
    {
      "cell_type": "code",
      "metadata": {
        "colab": {
          "base_uri": "https://localhost:8080/",
          "height": 402
        },
        "id": "9A7c-G19aleY",
        "outputId": "ce11fab7-58da-4993-fdfa-af60c9d992d4"
      },
      "source": [
        "datos_maraton.isna()"
      ],
      "execution_count": 14,
      "outputs": [
        {
          "output_type": "execute_result",
          "data": {
            "text/html": [
              "<div>\n",
              "<style scoped>\n",
              "    .dataframe tbody tr th:only-of-type {\n",
              "        vertical-align: middle;\n",
              "    }\n",
              "\n",
              "    .dataframe tbody tr th {\n",
              "        vertical-align: top;\n",
              "    }\n",
              "\n",
              "    .dataframe thead th {\n",
              "        text-align: right;\n",
              "    }\n",
              "</style>\n",
              "<table border=\"1\" class=\"dataframe\">\n",
              "  <thead>\n",
              "    <tr style=\"text-align: right;\">\n",
              "      <th></th>\n",
              "      <th>Category</th>\n",
              "      <th>km4week</th>\n",
              "      <th>sp4week</th>\n",
              "      <th>CrossTraining</th>\n",
              "      <th>Wall21</th>\n",
              "      <th>MarathonTime</th>\n",
              "    </tr>\n",
              "  </thead>\n",
              "  <tbody>\n",
              "    <tr>\n",
              "      <th>0</th>\n",
              "      <td>False</td>\n",
              "      <td>False</td>\n",
              "      <td>False</td>\n",
              "      <td>True</td>\n",
              "      <td>False</td>\n",
              "      <td>False</td>\n",
              "    </tr>\n",
              "    <tr>\n",
              "      <th>1</th>\n",
              "      <td>False</td>\n",
              "      <td>False</td>\n",
              "      <td>False</td>\n",
              "      <td>True</td>\n",
              "      <td>False</td>\n",
              "      <td>False</td>\n",
              "    </tr>\n",
              "    <tr>\n",
              "      <th>2</th>\n",
              "      <td>False</td>\n",
              "      <td>False</td>\n",
              "      <td>False</td>\n",
              "      <td>True</td>\n",
              "      <td>False</td>\n",
              "      <td>False</td>\n",
              "    </tr>\n",
              "    <tr>\n",
              "      <th>3</th>\n",
              "      <td>False</td>\n",
              "      <td>False</td>\n",
              "      <td>False</td>\n",
              "      <td>True</td>\n",
              "      <td>False</td>\n",
              "      <td>False</td>\n",
              "    </tr>\n",
              "    <tr>\n",
              "      <th>4</th>\n",
              "      <td>False</td>\n",
              "      <td>False</td>\n",
              "      <td>False</td>\n",
              "      <td>True</td>\n",
              "      <td>False</td>\n",
              "      <td>False</td>\n",
              "    </tr>\n",
              "    <tr>\n",
              "      <th>...</th>\n",
              "      <td>...</td>\n",
              "      <td>...</td>\n",
              "      <td>...</td>\n",
              "      <td>...</td>\n",
              "      <td>...</td>\n",
              "      <td>...</td>\n",
              "    </tr>\n",
              "    <tr>\n",
              "      <th>82</th>\n",
              "      <td>False</td>\n",
              "      <td>False</td>\n",
              "      <td>False</td>\n",
              "      <td>True</td>\n",
              "      <td>False</td>\n",
              "      <td>False</td>\n",
              "    </tr>\n",
              "    <tr>\n",
              "      <th>83</th>\n",
              "      <td>False</td>\n",
              "      <td>False</td>\n",
              "      <td>False</td>\n",
              "      <td>False</td>\n",
              "      <td>False</td>\n",
              "      <td>False</td>\n",
              "    </tr>\n",
              "    <tr>\n",
              "      <th>84</th>\n",
              "      <td>False</td>\n",
              "      <td>False</td>\n",
              "      <td>False</td>\n",
              "      <td>True</td>\n",
              "      <td>False</td>\n",
              "      <td>False</td>\n",
              "    </tr>\n",
              "    <tr>\n",
              "      <th>85</th>\n",
              "      <td>False</td>\n",
              "      <td>False</td>\n",
              "      <td>False</td>\n",
              "      <td>True</td>\n",
              "      <td>False</td>\n",
              "      <td>False</td>\n",
              "    </tr>\n",
              "    <tr>\n",
              "      <th>86</th>\n",
              "      <td>False</td>\n",
              "      <td>False</td>\n",
              "      <td>False</td>\n",
              "      <td>False</td>\n",
              "      <td>False</td>\n",
              "      <td>False</td>\n",
              "    </tr>\n",
              "  </tbody>\n",
              "</table>\n",
              "<p>87 rows × 6 columns</p>\n",
              "</div>"
            ],
            "text/plain": [
              "    Category  km4week  sp4week  CrossTraining  Wall21  MarathonTime\n",
              "0      False    False    False           True   False         False\n",
              "1      False    False    False           True   False         False\n",
              "2      False    False    False           True   False         False\n",
              "3      False    False    False           True   False         False\n",
              "4      False    False    False           True   False         False\n",
              "..       ...      ...      ...            ...     ...           ...\n",
              "82     False    False    False           True   False         False\n",
              "83     False    False    False          False   False         False\n",
              "84     False    False    False           True   False         False\n",
              "85     False    False    False           True   False         False\n",
              "86     False    False    False          False   False         False\n",
              "\n",
              "[87 rows x 6 columns]"
            ]
          },
          "metadata": {
            "tags": []
          },
          "execution_count": 14
        }
      ]
    },
    {
      "cell_type": "code",
      "metadata": {
        "colab": {
          "base_uri": "https://localhost:8080/",
          "height": 402
        },
        "id": "Decgl03ParF5",
        "outputId": "49299717-23b3-4191-dbfc-165106f7f6db"
      },
      "source": [
        "# Debido a que har varios datos nulos, la idea es rellenarlos con 0 para completar con algo las celdas\n",
        "\n",
        "datos_maraton['CrossTraining'] = datos_maraton['CrossTraining'].fillna(0)\n",
        "datos_maraton"
      ],
      "execution_count": 15,
      "outputs": [
        {
          "output_type": "execute_result",
          "data": {
            "text/html": [
              "<div>\n",
              "<style scoped>\n",
              "    .dataframe tbody tr th:only-of-type {\n",
              "        vertical-align: middle;\n",
              "    }\n",
              "\n",
              "    .dataframe tbody tr th {\n",
              "        vertical-align: top;\n",
              "    }\n",
              "\n",
              "    .dataframe thead th {\n",
              "        text-align: right;\n",
              "    }\n",
              "</style>\n",
              "<table border=\"1\" class=\"dataframe\">\n",
              "  <thead>\n",
              "    <tr style=\"text-align: right;\">\n",
              "      <th></th>\n",
              "      <th>Category</th>\n",
              "      <th>km4week</th>\n",
              "      <th>sp4week</th>\n",
              "      <th>CrossTraining</th>\n",
              "      <th>Wall21</th>\n",
              "      <th>MarathonTime</th>\n",
              "    </tr>\n",
              "  </thead>\n",
              "  <tbody>\n",
              "    <tr>\n",
              "      <th>0</th>\n",
              "      <td>MAM</td>\n",
              "      <td>132.8</td>\n",
              "      <td>14.434783</td>\n",
              "      <td>0</td>\n",
              "      <td>1.16</td>\n",
              "      <td>2.37</td>\n",
              "    </tr>\n",
              "    <tr>\n",
              "      <th>1</th>\n",
              "      <td>MAM</td>\n",
              "      <td>68.6</td>\n",
              "      <td>13.674419</td>\n",
              "      <td>0</td>\n",
              "      <td>1.23</td>\n",
              "      <td>2.59</td>\n",
              "    </tr>\n",
              "    <tr>\n",
              "      <th>2</th>\n",
              "      <td>MAM</td>\n",
              "      <td>82.7</td>\n",
              "      <td>13.520436</td>\n",
              "      <td>0</td>\n",
              "      <td>1.30</td>\n",
              "      <td>2.66</td>\n",
              "    </tr>\n",
              "    <tr>\n",
              "      <th>3</th>\n",
              "      <td>M45</td>\n",
              "      <td>137.5</td>\n",
              "      <td>12.258544</td>\n",
              "      <td>0</td>\n",
              "      <td>1.32</td>\n",
              "      <td>2.68</td>\n",
              "    </tr>\n",
              "    <tr>\n",
              "      <th>4</th>\n",
              "      <td>MAM</td>\n",
              "      <td>84.6</td>\n",
              "      <td>13.945055</td>\n",
              "      <td>0</td>\n",
              "      <td>1.36</td>\n",
              "      <td>2.74</td>\n",
              "    </tr>\n",
              "    <tr>\n",
              "      <th>...</th>\n",
              "      <td>...</td>\n",
              "      <td>...</td>\n",
              "      <td>...</td>\n",
              "      <td>...</td>\n",
              "      <td>...</td>\n",
              "      <td>...</td>\n",
              "    </tr>\n",
              "    <tr>\n",
              "      <th>82</th>\n",
              "      <td>M55</td>\n",
              "      <td>50.0</td>\n",
              "      <td>10.830325</td>\n",
              "      <td>0</td>\n",
              "      <td>2.02</td>\n",
              "      <td>3.93</td>\n",
              "    </tr>\n",
              "    <tr>\n",
              "      <th>83</th>\n",
              "      <td>M40</td>\n",
              "      <td>33.6</td>\n",
              "      <td>10.130653</td>\n",
              "      <td>ciclista 3h</td>\n",
              "      <td>1.94</td>\n",
              "      <td>3.93</td>\n",
              "    </tr>\n",
              "    <tr>\n",
              "      <th>84</th>\n",
              "      <td>M40</td>\n",
              "      <td>55.4</td>\n",
              "      <td>11.043189</td>\n",
              "      <td>0</td>\n",
              "      <td>1.94</td>\n",
              "      <td>3.94</td>\n",
              "    </tr>\n",
              "    <tr>\n",
              "      <th>85</th>\n",
              "      <td>M45</td>\n",
              "      <td>33.2</td>\n",
              "      <td>11.066667</td>\n",
              "      <td>0</td>\n",
              "      <td>2.05</td>\n",
              "      <td>3.95</td>\n",
              "    </tr>\n",
              "    <tr>\n",
              "      <th>86</th>\n",
              "      <td>M40</td>\n",
              "      <td>17.9</td>\n",
              "      <td>10.848485</td>\n",
              "      <td>ciclista 5h</td>\n",
              "      <td>2.05</td>\n",
              "      <td>3.98</td>\n",
              "    </tr>\n",
              "  </tbody>\n",
              "</table>\n",
              "<p>87 rows × 6 columns</p>\n",
              "</div>"
            ],
            "text/plain": [
              "   Category  km4week    sp4week CrossTraining  Wall21  MarathonTime\n",
              "0       MAM    132.8  14.434783             0    1.16          2.37\n",
              "1       MAM     68.6  13.674419             0    1.23          2.59\n",
              "2       MAM     82.7  13.520436             0    1.30          2.66\n",
              "3       M45    137.5  12.258544             0    1.32          2.68\n",
              "4       MAM     84.6  13.945055             0    1.36          2.74\n",
              "..      ...      ...        ...           ...     ...           ...\n",
              "82      M55     50.0  10.830325             0    2.02          3.93\n",
              "83      M40     33.6  10.130653   ciclista 3h    1.94          3.93\n",
              "84      M40     55.4  11.043189             0    1.94          3.94\n",
              "85      M45     33.2  11.066667             0    2.05          3.95\n",
              "86      M40     17.9  10.848485   ciclista 5h    2.05          3.98\n",
              "\n",
              "[87 rows x 6 columns]"
            ]
          },
          "metadata": {
            "tags": []
          },
          "execution_count": 15
        }
      ]
    },
    {
      "cell_type": "code",
      "metadata": {
        "colab": {
          "base_uri": "https://localhost:8080/",
          "height": 402
        },
        "id": "Sa-ISqkka_EO",
        "outputId": "1b8d67f8-ec4e-4e1d-b2ea-bc91a3aece2f"
      },
      "source": [
        "# Aca lo que hago es , voy arriba a los campos con valores nulos, y directamente borro la fila de datos. Borro los registros que los demas dan nulos, dado que son muy pocos\n",
        "\n",
        "datos_maraton = datos_maraton.dropna(how='any')\n",
        "datos_maraton"
      ],
      "execution_count": 16,
      "outputs": [
        {
          "output_type": "execute_result",
          "data": {
            "text/html": [
              "<div>\n",
              "<style scoped>\n",
              "    .dataframe tbody tr th:only-of-type {\n",
              "        vertical-align: middle;\n",
              "    }\n",
              "\n",
              "    .dataframe tbody tr th {\n",
              "        vertical-align: top;\n",
              "    }\n",
              "\n",
              "    .dataframe thead th {\n",
              "        text-align: right;\n",
              "    }\n",
              "</style>\n",
              "<table border=\"1\" class=\"dataframe\">\n",
              "  <thead>\n",
              "    <tr style=\"text-align: right;\">\n",
              "      <th></th>\n",
              "      <th>Category</th>\n",
              "      <th>km4week</th>\n",
              "      <th>sp4week</th>\n",
              "      <th>CrossTraining</th>\n",
              "      <th>Wall21</th>\n",
              "      <th>MarathonTime</th>\n",
              "    </tr>\n",
              "  </thead>\n",
              "  <tbody>\n",
              "    <tr>\n",
              "      <th>0</th>\n",
              "      <td>MAM</td>\n",
              "      <td>132.8</td>\n",
              "      <td>14.434783</td>\n",
              "      <td>0</td>\n",
              "      <td>1.16</td>\n",
              "      <td>2.37</td>\n",
              "    </tr>\n",
              "    <tr>\n",
              "      <th>1</th>\n",
              "      <td>MAM</td>\n",
              "      <td>68.6</td>\n",
              "      <td>13.674419</td>\n",
              "      <td>0</td>\n",
              "      <td>1.23</td>\n",
              "      <td>2.59</td>\n",
              "    </tr>\n",
              "    <tr>\n",
              "      <th>2</th>\n",
              "      <td>MAM</td>\n",
              "      <td>82.7</td>\n",
              "      <td>13.520436</td>\n",
              "      <td>0</td>\n",
              "      <td>1.30</td>\n",
              "      <td>2.66</td>\n",
              "    </tr>\n",
              "    <tr>\n",
              "      <th>3</th>\n",
              "      <td>M45</td>\n",
              "      <td>137.5</td>\n",
              "      <td>12.258544</td>\n",
              "      <td>0</td>\n",
              "      <td>1.32</td>\n",
              "      <td>2.68</td>\n",
              "    </tr>\n",
              "    <tr>\n",
              "      <th>4</th>\n",
              "      <td>MAM</td>\n",
              "      <td>84.6</td>\n",
              "      <td>13.945055</td>\n",
              "      <td>0</td>\n",
              "      <td>1.36</td>\n",
              "      <td>2.74</td>\n",
              "    </tr>\n",
              "    <tr>\n",
              "      <th>...</th>\n",
              "      <td>...</td>\n",
              "      <td>...</td>\n",
              "      <td>...</td>\n",
              "      <td>...</td>\n",
              "      <td>...</td>\n",
              "      <td>...</td>\n",
              "    </tr>\n",
              "    <tr>\n",
              "      <th>82</th>\n",
              "      <td>M55</td>\n",
              "      <td>50.0</td>\n",
              "      <td>10.830325</td>\n",
              "      <td>0</td>\n",
              "      <td>2.02</td>\n",
              "      <td>3.93</td>\n",
              "    </tr>\n",
              "    <tr>\n",
              "      <th>83</th>\n",
              "      <td>M40</td>\n",
              "      <td>33.6</td>\n",
              "      <td>10.130653</td>\n",
              "      <td>ciclista 3h</td>\n",
              "      <td>1.94</td>\n",
              "      <td>3.93</td>\n",
              "    </tr>\n",
              "    <tr>\n",
              "      <th>84</th>\n",
              "      <td>M40</td>\n",
              "      <td>55.4</td>\n",
              "      <td>11.043189</td>\n",
              "      <td>0</td>\n",
              "      <td>1.94</td>\n",
              "      <td>3.94</td>\n",
              "    </tr>\n",
              "    <tr>\n",
              "      <th>85</th>\n",
              "      <td>M45</td>\n",
              "      <td>33.2</td>\n",
              "      <td>11.066667</td>\n",
              "      <td>0</td>\n",
              "      <td>2.05</td>\n",
              "      <td>3.95</td>\n",
              "    </tr>\n",
              "    <tr>\n",
              "      <th>86</th>\n",
              "      <td>M40</td>\n",
              "      <td>17.9</td>\n",
              "      <td>10.848485</td>\n",
              "      <td>ciclista 5h</td>\n",
              "      <td>2.05</td>\n",
              "      <td>3.98</td>\n",
              "    </tr>\n",
              "  </tbody>\n",
              "</table>\n",
              "<p>81 rows × 6 columns</p>\n",
              "</div>"
            ],
            "text/plain": [
              "   Category  km4week    sp4week CrossTraining  Wall21  MarathonTime\n",
              "0       MAM    132.8  14.434783             0    1.16          2.37\n",
              "1       MAM     68.6  13.674419             0    1.23          2.59\n",
              "2       MAM     82.7  13.520436             0    1.30          2.66\n",
              "3       M45    137.5  12.258544             0    1.32          2.68\n",
              "4       MAM     84.6  13.945055             0    1.36          2.74\n",
              "..      ...      ...        ...           ...     ...           ...\n",
              "82      M55     50.0  10.830325             0    2.02          3.93\n",
              "83      M40     33.6  10.130653   ciclista 3h    1.94          3.93\n",
              "84      M40     55.4  11.043189             0    1.94          3.94\n",
              "85      M45     33.2  11.066667             0    2.05          3.95\n",
              "86      M40     17.9  10.848485   ciclista 5h    2.05          3.98\n",
              "\n",
              "[81 rows x 6 columns]"
            ]
          },
          "metadata": {
            "tags": []
          },
          "execution_count": 16
        }
      ]
    },
    {
      "cell_type": "code",
      "metadata": {
        "colab": {
          "base_uri": "https://localhost:8080/"
        },
        "id": "VgtYBnNvbSgC",
        "outputId": "b0496a8b-2397-433f-dd93-32670aba1e94"
      },
      "source": [
        "# Lidiar con los datos no numericos, modificar los datos a numericos para que el modelo se sienta bien\n",
        "\n",
        "# Traducir Category y CrossTraining\n",
        "\n",
        "datos_maraton['CrossTraining'].unique()"
      ],
      "execution_count": 17,
      "outputs": [
        {
          "output_type": "execute_result",
          "data": {
            "text/plain": [
              "array([0, 'ciclista 1h', 'ciclista 4h', 'ciclista 13h', 'ciclista 3h',\n",
              "       'ciclista 5h'], dtype=object)"
            ]
          },
          "metadata": {
            "tags": []
          },
          "execution_count": 17
        }
      ]
    },
    {
      "cell_type": "code",
      "metadata": {
        "colab": {
          "base_uri": "https://localhost:8080/",
          "height": 522
        },
        "id": "OdyKqxuRb4Fl",
        "outputId": "3d9070ff-4f3d-4d4e-a6a9-e6df8c61f372"
      },
      "source": [
        "valores_cross = {'CrossTraining': {'ciclista 1h':1, 'ciclista 3h':2, 'ciclista 4h':3, 'ciclista 5h':4, 'ciclista 13h':5}}\n",
        "datos_maraton.replace(valores_cross, inplace=True)\n",
        "datos_maraton\n"
      ],
      "execution_count": 18,
      "outputs": [
        {
          "output_type": "stream",
          "text": [
            "/usr/local/lib/python3.6/dist-packages/pandas/core/indexing.py:1743: SettingWithCopyWarning: \n",
            "A value is trying to be set on a copy of a slice from a DataFrame.\n",
            "Try using .loc[row_indexer,col_indexer] = value instead\n",
            "\n",
            "See the caveats in the documentation: https://pandas.pydata.org/pandas-docs/stable/user_guide/indexing.html#returning-a-view-versus-a-copy\n",
            "  isetter(ilocs[0], value)\n"
          ],
          "name": "stderr"
        },
        {
          "output_type": "execute_result",
          "data": {
            "text/html": [
              "<div>\n",
              "<style scoped>\n",
              "    .dataframe tbody tr th:only-of-type {\n",
              "        vertical-align: middle;\n",
              "    }\n",
              "\n",
              "    .dataframe tbody tr th {\n",
              "        vertical-align: top;\n",
              "    }\n",
              "\n",
              "    .dataframe thead th {\n",
              "        text-align: right;\n",
              "    }\n",
              "</style>\n",
              "<table border=\"1\" class=\"dataframe\">\n",
              "  <thead>\n",
              "    <tr style=\"text-align: right;\">\n",
              "      <th></th>\n",
              "      <th>Category</th>\n",
              "      <th>km4week</th>\n",
              "      <th>sp4week</th>\n",
              "      <th>CrossTraining</th>\n",
              "      <th>Wall21</th>\n",
              "      <th>MarathonTime</th>\n",
              "    </tr>\n",
              "  </thead>\n",
              "  <tbody>\n",
              "    <tr>\n",
              "      <th>0</th>\n",
              "      <td>MAM</td>\n",
              "      <td>132.8</td>\n",
              "      <td>14.434783</td>\n",
              "      <td>0</td>\n",
              "      <td>1.16</td>\n",
              "      <td>2.37</td>\n",
              "    </tr>\n",
              "    <tr>\n",
              "      <th>1</th>\n",
              "      <td>MAM</td>\n",
              "      <td>68.6</td>\n",
              "      <td>13.674419</td>\n",
              "      <td>0</td>\n",
              "      <td>1.23</td>\n",
              "      <td>2.59</td>\n",
              "    </tr>\n",
              "    <tr>\n",
              "      <th>2</th>\n",
              "      <td>MAM</td>\n",
              "      <td>82.7</td>\n",
              "      <td>13.520436</td>\n",
              "      <td>0</td>\n",
              "      <td>1.30</td>\n",
              "      <td>2.66</td>\n",
              "    </tr>\n",
              "    <tr>\n",
              "      <th>3</th>\n",
              "      <td>M45</td>\n",
              "      <td>137.5</td>\n",
              "      <td>12.258544</td>\n",
              "      <td>0</td>\n",
              "      <td>1.32</td>\n",
              "      <td>2.68</td>\n",
              "    </tr>\n",
              "    <tr>\n",
              "      <th>4</th>\n",
              "      <td>MAM</td>\n",
              "      <td>84.6</td>\n",
              "      <td>13.945055</td>\n",
              "      <td>0</td>\n",
              "      <td>1.36</td>\n",
              "      <td>2.74</td>\n",
              "    </tr>\n",
              "    <tr>\n",
              "      <th>...</th>\n",
              "      <td>...</td>\n",
              "      <td>...</td>\n",
              "      <td>...</td>\n",
              "      <td>...</td>\n",
              "      <td>...</td>\n",
              "      <td>...</td>\n",
              "    </tr>\n",
              "    <tr>\n",
              "      <th>82</th>\n",
              "      <td>M55</td>\n",
              "      <td>50.0</td>\n",
              "      <td>10.830325</td>\n",
              "      <td>0</td>\n",
              "      <td>2.02</td>\n",
              "      <td>3.93</td>\n",
              "    </tr>\n",
              "    <tr>\n",
              "      <th>83</th>\n",
              "      <td>M40</td>\n",
              "      <td>33.6</td>\n",
              "      <td>10.130653</td>\n",
              "      <td>2</td>\n",
              "      <td>1.94</td>\n",
              "      <td>3.93</td>\n",
              "    </tr>\n",
              "    <tr>\n",
              "      <th>84</th>\n",
              "      <td>M40</td>\n",
              "      <td>55.4</td>\n",
              "      <td>11.043189</td>\n",
              "      <td>0</td>\n",
              "      <td>1.94</td>\n",
              "      <td>3.94</td>\n",
              "    </tr>\n",
              "    <tr>\n",
              "      <th>85</th>\n",
              "      <td>M45</td>\n",
              "      <td>33.2</td>\n",
              "      <td>11.066667</td>\n",
              "      <td>0</td>\n",
              "      <td>2.05</td>\n",
              "      <td>3.95</td>\n",
              "    </tr>\n",
              "    <tr>\n",
              "      <th>86</th>\n",
              "      <td>M40</td>\n",
              "      <td>17.9</td>\n",
              "      <td>10.848485</td>\n",
              "      <td>4</td>\n",
              "      <td>2.05</td>\n",
              "      <td>3.98</td>\n",
              "    </tr>\n",
              "  </tbody>\n",
              "</table>\n",
              "<p>81 rows × 6 columns</p>\n",
              "</div>"
            ],
            "text/plain": [
              "   Category  km4week    sp4week  CrossTraining  Wall21  MarathonTime\n",
              "0       MAM    132.8  14.434783              0    1.16          2.37\n",
              "1       MAM     68.6  13.674419              0    1.23          2.59\n",
              "2       MAM     82.7  13.520436              0    1.30          2.66\n",
              "3       M45    137.5  12.258544              0    1.32          2.68\n",
              "4       MAM     84.6  13.945055              0    1.36          2.74\n",
              "..      ...      ...        ...            ...     ...           ...\n",
              "82      M55     50.0  10.830325              0    2.02          3.93\n",
              "83      M40     33.6  10.130653              2    1.94          3.93\n",
              "84      M40     55.4  11.043189              0    1.94          3.94\n",
              "85      M45     33.2  11.066667              0    2.05          3.95\n",
              "86      M40     17.9  10.848485              4    2.05          3.98\n",
              "\n",
              "[81 rows x 6 columns]"
            ]
          },
          "metadata": {
            "tags": []
          },
          "execution_count": 18
        }
      ]
    },
    {
      "cell_type": "code",
      "metadata": {
        "colab": {
          "base_uri": "https://localhost:8080/"
        },
        "id": "FIFUAp4ZdIAL",
        "outputId": "cd162198-e0a9-4781-e454-ecbd099da73d"
      },
      "source": [
        "datos_maraton['Category'].unique()"
      ],
      "execution_count": 19,
      "outputs": [
        {
          "output_type": "execute_result",
          "data": {
            "text/plain": [
              "array(['MAM', 'M45', 'M40', 'M50', 'M55', 'WAM'], dtype=object)"
            ]
          },
          "metadata": {
            "tags": []
          },
          "execution_count": 19
        }
      ]
    },
    {
      "cell_type": "code",
      "metadata": {
        "colab": {
          "base_uri": "https://localhost:8080/",
          "height": 522
        },
        "id": "z4CFXRg9c2xr",
        "outputId": "3cbd3316-8df5-42ca-99dd-fa6b3167a6e5"
      },
      "source": [
        "valores_cat = {'Category': {'MAM':1, 'M45':2, 'M40':3, 'M50':4, 'M55':5, 'WAM':6}}\n",
        "datos_maraton.replace(valores_cat, inplace=True)\n",
        "datos_maraton"
      ],
      "execution_count": 20,
      "outputs": [
        {
          "output_type": "stream",
          "text": [
            "/usr/local/lib/python3.6/dist-packages/pandas/core/indexing.py:1743: SettingWithCopyWarning: \n",
            "A value is trying to be set on a copy of a slice from a DataFrame.\n",
            "Try using .loc[row_indexer,col_indexer] = value instead\n",
            "\n",
            "See the caveats in the documentation: https://pandas.pydata.org/pandas-docs/stable/user_guide/indexing.html#returning-a-view-versus-a-copy\n",
            "  isetter(ilocs[0], value)\n"
          ],
          "name": "stderr"
        },
        {
          "output_type": "execute_result",
          "data": {
            "text/html": [
              "<div>\n",
              "<style scoped>\n",
              "    .dataframe tbody tr th:only-of-type {\n",
              "        vertical-align: middle;\n",
              "    }\n",
              "\n",
              "    .dataframe tbody tr th {\n",
              "        vertical-align: top;\n",
              "    }\n",
              "\n",
              "    .dataframe thead th {\n",
              "        text-align: right;\n",
              "    }\n",
              "</style>\n",
              "<table border=\"1\" class=\"dataframe\">\n",
              "  <thead>\n",
              "    <tr style=\"text-align: right;\">\n",
              "      <th></th>\n",
              "      <th>Category</th>\n",
              "      <th>km4week</th>\n",
              "      <th>sp4week</th>\n",
              "      <th>CrossTraining</th>\n",
              "      <th>Wall21</th>\n",
              "      <th>MarathonTime</th>\n",
              "    </tr>\n",
              "  </thead>\n",
              "  <tbody>\n",
              "    <tr>\n",
              "      <th>0</th>\n",
              "      <td>1</td>\n",
              "      <td>132.8</td>\n",
              "      <td>14.434783</td>\n",
              "      <td>0</td>\n",
              "      <td>1.16</td>\n",
              "      <td>2.37</td>\n",
              "    </tr>\n",
              "    <tr>\n",
              "      <th>1</th>\n",
              "      <td>1</td>\n",
              "      <td>68.6</td>\n",
              "      <td>13.674419</td>\n",
              "      <td>0</td>\n",
              "      <td>1.23</td>\n",
              "      <td>2.59</td>\n",
              "    </tr>\n",
              "    <tr>\n",
              "      <th>2</th>\n",
              "      <td>1</td>\n",
              "      <td>82.7</td>\n",
              "      <td>13.520436</td>\n",
              "      <td>0</td>\n",
              "      <td>1.30</td>\n",
              "      <td>2.66</td>\n",
              "    </tr>\n",
              "    <tr>\n",
              "      <th>3</th>\n",
              "      <td>2</td>\n",
              "      <td>137.5</td>\n",
              "      <td>12.258544</td>\n",
              "      <td>0</td>\n",
              "      <td>1.32</td>\n",
              "      <td>2.68</td>\n",
              "    </tr>\n",
              "    <tr>\n",
              "      <th>4</th>\n",
              "      <td>1</td>\n",
              "      <td>84.6</td>\n",
              "      <td>13.945055</td>\n",
              "      <td>0</td>\n",
              "      <td>1.36</td>\n",
              "      <td>2.74</td>\n",
              "    </tr>\n",
              "    <tr>\n",
              "      <th>...</th>\n",
              "      <td>...</td>\n",
              "      <td>...</td>\n",
              "      <td>...</td>\n",
              "      <td>...</td>\n",
              "      <td>...</td>\n",
              "      <td>...</td>\n",
              "    </tr>\n",
              "    <tr>\n",
              "      <th>82</th>\n",
              "      <td>5</td>\n",
              "      <td>50.0</td>\n",
              "      <td>10.830325</td>\n",
              "      <td>0</td>\n",
              "      <td>2.02</td>\n",
              "      <td>3.93</td>\n",
              "    </tr>\n",
              "    <tr>\n",
              "      <th>83</th>\n",
              "      <td>3</td>\n",
              "      <td>33.6</td>\n",
              "      <td>10.130653</td>\n",
              "      <td>2</td>\n",
              "      <td>1.94</td>\n",
              "      <td>3.93</td>\n",
              "    </tr>\n",
              "    <tr>\n",
              "      <th>84</th>\n",
              "      <td>3</td>\n",
              "      <td>55.4</td>\n",
              "      <td>11.043189</td>\n",
              "      <td>0</td>\n",
              "      <td>1.94</td>\n",
              "      <td>3.94</td>\n",
              "    </tr>\n",
              "    <tr>\n",
              "      <th>85</th>\n",
              "      <td>2</td>\n",
              "      <td>33.2</td>\n",
              "      <td>11.066667</td>\n",
              "      <td>0</td>\n",
              "      <td>2.05</td>\n",
              "      <td>3.95</td>\n",
              "    </tr>\n",
              "    <tr>\n",
              "      <th>86</th>\n",
              "      <td>3</td>\n",
              "      <td>17.9</td>\n",
              "      <td>10.848485</td>\n",
              "      <td>4</td>\n",
              "      <td>2.05</td>\n",
              "      <td>3.98</td>\n",
              "    </tr>\n",
              "  </tbody>\n",
              "</table>\n",
              "<p>81 rows × 6 columns</p>\n",
              "</div>"
            ],
            "text/plain": [
              "    Category  km4week    sp4week  CrossTraining  Wall21  MarathonTime\n",
              "0          1    132.8  14.434783              0    1.16          2.37\n",
              "1          1     68.6  13.674419              0    1.23          2.59\n",
              "2          1     82.7  13.520436              0    1.30          2.66\n",
              "3          2    137.5  12.258544              0    1.32          2.68\n",
              "4          1     84.6  13.945055              0    1.36          2.74\n",
              "..       ...      ...        ...            ...     ...           ...\n",
              "82         5     50.0  10.830325              0    2.02          3.93\n",
              "83         3     33.6  10.130653              2    1.94          3.93\n",
              "84         3     55.4  11.043189              0    1.94          3.94\n",
              "85         2     33.2  11.066667              0    2.05          3.95\n",
              "86         3     17.9  10.848485              4    2.05          3.98\n",
              "\n",
              "[81 rows x 6 columns]"
            ]
          },
          "metadata": {
            "tags": []
          },
          "execution_count": 20
        }
      ]
    },
    {
      "cell_type": "code",
      "metadata": {
        "colab": {
          "base_uri": "https://localhost:8080/"
        },
        "id": "3Ps7MmhOdshS",
        "outputId": "7a3de396-3aec-4db7-eafb-892bc96c7067"
      },
      "source": [
        "datos_maraton.info()\n"
      ],
      "execution_count": 21,
      "outputs": [
        {
          "output_type": "stream",
          "text": [
            "<class 'pandas.core.frame.DataFrame'>\n",
            "Int64Index: 81 entries, 0 to 86\n",
            "Data columns (total 6 columns):\n",
            " #   Column         Non-Null Count  Dtype  \n",
            "---  ------         --------------  -----  \n",
            " 0   Category       81 non-null     int64  \n",
            " 1   km4week        81 non-null     float64\n",
            " 2   sp4week        81 non-null     float64\n",
            " 3   CrossTraining  81 non-null     int64  \n",
            " 4   Wall21         81 non-null     float64\n",
            " 5   MarathonTime   81 non-null     float64\n",
            "dtypes: float64(4), int64(2)\n",
            "memory usage: 4.4 KB\n"
          ],
          "name": "stdout"
        }
      ]
    },
    {
      "cell_type": "code",
      "metadata": {
        "colab": {
          "base_uri": "https://localhost:8080/",
          "height": 398
        },
        "id": "29q45rGHduM0",
        "outputId": "f2458bc7-d0f3-4d72-ee09-0e1529aa3cbb"
      },
      "source": [
        "datos_maraton.hist()"
      ],
      "execution_count": 22,
      "outputs": [
        {
          "output_type": "execute_result",
          "data": {
            "text/plain": [
              "array([[<matplotlib.axes._subplots.AxesSubplot object at 0x7f37ea5d04e0>,\n",
              "        <matplotlib.axes._subplots.AxesSubplot object at 0x7f37e930e748>],\n",
              "       [<matplotlib.axes._subplots.AxesSubplot object at 0x7f37e933f9b0>,\n",
              "        <matplotlib.axes._subplots.AxesSubplot object at 0x7f37e92f2c18>],\n",
              "       [<matplotlib.axes._subplots.AxesSubplot object at 0x7f37e92a8e80>,\n",
              "        <matplotlib.axes._subplots.AxesSubplot object at 0x7f37e9266128>]],\n",
              "      dtype=object)"
            ]
          },
          "metadata": {
            "tags": []
          },
          "execution_count": 22
        },
        {
          "output_type": "display_data",
          "data": {
            "image/png": "[encoded data removed]",
            "text/plain": [
              "<Figure size 432x288 with 6 Axes>"
            ]
          },
          "metadata": {
            "tags": [],
            "needs_background": "light"
          }
        }
      ]
    },
    {
      "cell_type": "code",
      "metadata": {
        "colab": {
          "base_uri": "https://localhost:8080/",
          "height": 295
        },
        "id": "LZLtGJxHdwjc",
        "outputId": "37d25ef3-4fe5-4841-b79b-8b56a429f294"
      },
      "source": [
        "# Olfatear alguna relacion entre dif variables. Pintar el tiempo de maraton vs alguna otra variable que quizas esten realcionadas\n",
        "import matplotlib.pyplot as plt\n",
        "plt.scatter(x = datos_maraton['km4week'], y = datos_maraton['MarathonTime'])\n",
        "plt.title('km4week VS Marathon Time')\n",
        "plt.xlabel('km4week')\n",
        "plt.ylabel('Marathon Time')\n",
        "plt.show()\n"
      ],
      "execution_count": 23,
      "outputs": [
        {
          "output_type": "display_data",
          "data": {
            "image/png": "[encoded data removed]",
            "text/plain": [
              "<Figure size 432x288 with 1 Axes>"
            ]
          },
          "metadata": {
            "tags": [],
            "needs_background": "light"
          }
        }
      ]
    },
    {
      "cell_type": "code",
      "metadata": {
        "colab": {
          "base_uri": "https://localhost:8080/",
          "height": 295
        },
        "id": "SYX2GbWSeddm",
        "outputId": "ad60cb72-a830-460a-e6b5-360fbc6c5580"
      },
      "source": [
        "plt.scatter(x = datos_maraton['sp4week'], y = datos_maraton['MarathonTime'])\n",
        "plt.title('sp4week VS Marathon Time')\n",
        "plt.xlabel('sp4week')\n",
        "plt.ylabel('Marathon Time')\n",
        "plt.show()"
      ],
      "execution_count": 24,
      "outputs": [
        {
          "output_type": "display_data",
          "data": {
            "image/png": "[encoded data removed]",
            "text/plain": [
              "<Figure size 432x288 with 1 Axes>"
            ]
          },
          "metadata": {
            "tags": [],
            "needs_background": "light"
          }
        }
      ]
    },
    {
      "cell_type": "code",
      "metadata": {
        "id": "RtoVhfrse048"
      },
      "source": [
        "#en la ultima grafica como vemos un outlier , me va a cagar todo el analisis y la muestra me la mancha, por lo que con una query lo que decido es borrarlo\n",
        "datos_maraton = datos_maraton.query('sp4week<1000')"
      ],
      "execution_count": 26,
      "outputs": []
    },
    {
      "cell_type": "code",
      "metadata": {
        "colab": {
          "base_uri": "https://localhost:8080/",
          "height": 295
        },
        "id": "GqvaleFffHgB",
        "outputId": "1da16b4c-99e5-46ee-fca5-0342bccfed94"
      },
      "source": [
        "plt.scatter(x = datos_maraton['sp4week'], y = datos_maraton['MarathonTime'])\n",
        "plt.title('sp4week VS Marathon Time')\n",
        "plt.xlabel('sp4week')\n",
        "plt.ylabel('Marathon Time')\n",
        "plt.show()"
      ],
      "execution_count": 27,
      "outputs": [
        {
          "output_type": "display_data",
          "data": {
            "image/png": "[encoded data removed]",
            "text/plain": [
              "<Figure size 432x288 with 1 Axes>"
            ]
          },
          "metadata": {
            "tags": [],
            "needs_background": "light"
          }
        }
      ]
    },
    {
      "cell_type": "code",
      "metadata": {
        "colab": {
          "base_uri": "https://localhost:8080/",
          "height": 295
        },
        "id": "egA02uAbfZsK",
        "outputId": "6fb43411-77ea-4903-f2d8-86c8aedc3905"
      },
      "source": [
        "# seguir con el procesamiento\n",
        "plt.scatter(x = datos_maraton['Wall21'], y = datos_maraton['MarathonTime'])\n",
        "plt.title('Wall21 VS Marathon Time')\n",
        "plt.xlabel('Wall21')\n",
        "plt.ylabel('Marathon Time')\n",
        "plt.show()"
      ],
      "execution_count": 28,
      "outputs": [
        {
          "output_type": "display_data",
          "data": {
            "image/png": "[encoded data removed]",
            "text/plain": [
              "<Figure size 432x288 with 1 Axes>"
            ]
          },
          "metadata": {
            "tags": [],
            "needs_background": "light"
          }
        }
      ]
    },
    {
      "cell_type": "code",
      "metadata": {
        "id": "sPGhbtsffhDK"
      },
      "source": [
        ""
      ],
      "execution_count": null,
      "outputs": []
    },
    {
      "cell_type": "markdown",
      "metadata": {
        "id": "b0TueBK3fj39"
      },
      "source": [
        "YA PROCESE LOS DATOS, AHORA PASAR A ENTRENAR EL MODELO DE ML"
      ]
    },
    {
      "cell_type": "code",
      "metadata": {
        "id": "0nMrq-n-fnuG"
      },
      "source": [
        "# Partir los datos en dos, datos de training y datos de test. SPLIT DATASET\n",
        "\n",
        "datos_entrenamiento = datos_maraton.sample(frac=0.8, random_state=0)\n",
        "datos_test = datos_maraton.drop(datos_entrenamiento.index)\n"
      ],
      "execution_count": 29,
      "outputs": []
    },
    {
      "cell_type": "code",
      "metadata": {
        "colab": {
          "base_uri": "https://localhost:8080/",
          "height": 402
        },
        "id": "OC7GMI6LhW64",
        "outputId": "60455087-6112-4bff-8738-7bcd0c9c06af"
      },
      "source": [
        "datos_entrenamiento"
      ],
      "execution_count": 30,
      "outputs": [
        {
          "output_type": "execute_result",
          "data": {
            "text/html": [
              "<div>\n",
              "<style scoped>\n",
              "    .dataframe tbody tr th:only-of-type {\n",
              "        vertical-align: middle;\n",
              "    }\n",
              "\n",
              "    .dataframe tbody tr th {\n",
              "        vertical-align: top;\n",
              "    }\n",
              "\n",
              "    .dataframe thead th {\n",
              "        text-align: right;\n",
              "    }\n",
              "</style>\n",
              "<table border=\"1\" class=\"dataframe\">\n",
              "  <thead>\n",
              "    <tr style=\"text-align: right;\">\n",
              "      <th></th>\n",
              "      <th>Category</th>\n",
              "      <th>km4week</th>\n",
              "      <th>sp4week</th>\n",
              "      <th>CrossTraining</th>\n",
              "      <th>Wall21</th>\n",
              "      <th>MarathonTime</th>\n",
              "    </tr>\n",
              "  </thead>\n",
              "  <tbody>\n",
              "    <tr>\n",
              "      <th>54</th>\n",
              "      <td>3</td>\n",
              "      <td>70.7</td>\n",
              "      <td>11.783333</td>\n",
              "      <td>0</td>\n",
              "      <td>1.77</td>\n",
              "      <td>3.47</td>\n",
              "    </tr>\n",
              "    <tr>\n",
              "      <th>28</th>\n",
              "      <td>2</td>\n",
              "      <td>51.6</td>\n",
              "      <td>13.008403</td>\n",
              "      <td>0</td>\n",
              "      <td>1.50</td>\n",
              "      <td>3.15</td>\n",
              "    </tr>\n",
              "    <tr>\n",
              "      <th>31</th>\n",
              "      <td>1</td>\n",
              "      <td>79.4</td>\n",
              "      <td>13.344538</td>\n",
              "      <td>0</td>\n",
              "      <td>1.60</td>\n",
              "      <td>3.19</td>\n",
              "    </tr>\n",
              "    <tr>\n",
              "      <th>84</th>\n",
              "      <td>3</td>\n",
              "      <td>55.4</td>\n",
              "      <td>11.043189</td>\n",
              "      <td>0</td>\n",
              "      <td>1.94</td>\n",
              "      <td>3.94</td>\n",
              "    </tr>\n",
              "    <tr>\n",
              "      <th>47</th>\n",
              "      <td>2</td>\n",
              "      <td>39.6</td>\n",
              "      <td>12.247423</td>\n",
              "      <td>0</td>\n",
              "      <td>1.67</td>\n",
              "      <td>3.35</td>\n",
              "    </tr>\n",
              "    <tr>\n",
              "      <th>...</th>\n",
              "      <td>...</td>\n",
              "      <td>...</td>\n",
              "      <td>...</td>\n",
              "      <td>...</td>\n",
              "      <td>...</td>\n",
              "      <td>...</td>\n",
              "    </tr>\n",
              "    <tr>\n",
              "      <th>55</th>\n",
              "      <td>1</td>\n",
              "      <td>26.9</td>\n",
              "      <td>13.121951</td>\n",
              "      <td>0</td>\n",
              "      <td>1.67</td>\n",
              "      <td>3.50</td>\n",
              "    </tr>\n",
              "    <tr>\n",
              "      <th>20</th>\n",
              "      <td>1</td>\n",
              "      <td>94.5</td>\n",
              "      <td>11.886792</td>\n",
              "      <td>0</td>\n",
              "      <td>1.45</td>\n",
              "      <td>2.99</td>\n",
              "    </tr>\n",
              "    <tr>\n",
              "      <th>79</th>\n",
              "      <td>1</td>\n",
              "      <td>53.9</td>\n",
              "      <td>11.802920</td>\n",
              "      <td>0</td>\n",
              "      <td>1.98</td>\n",
              "      <td>3.90</td>\n",
              "    </tr>\n",
              "    <tr>\n",
              "      <th>8</th>\n",
              "      <td>1</td>\n",
              "      <td>70.0</td>\n",
              "      <td>13.770492</td>\n",
              "      <td>1</td>\n",
              "      <td>1.38</td>\n",
              "      <td>2.83</td>\n",
              "    </tr>\n",
              "    <tr>\n",
              "      <th>13</th>\n",
              "      <td>3</td>\n",
              "      <td>84.4</td>\n",
              "      <td>13.836066</td>\n",
              "      <td>0</td>\n",
              "      <td>1.41</td>\n",
              "      <td>2.88</td>\n",
              "    </tr>\n",
              "  </tbody>\n",
              "</table>\n",
              "<p>64 rows × 6 columns</p>\n",
              "</div>"
            ],
            "text/plain": [
              "    Category  km4week    sp4week  CrossTraining  Wall21  MarathonTime\n",
              "54         3     70.7  11.783333              0    1.77          3.47\n",
              "28         2     51.6  13.008403              0    1.50          3.15\n",
              "31         1     79.4  13.344538              0    1.60          3.19\n",
              "84         3     55.4  11.043189              0    1.94          3.94\n",
              "47         2     39.6  12.247423              0    1.67          3.35\n",
              "..       ...      ...        ...            ...     ...           ...\n",
              "55         1     26.9  13.121951              0    1.67          3.50\n",
              "20         1     94.5  11.886792              0    1.45          2.99\n",
              "79         1     53.9  11.802920              0    1.98          3.90\n",
              "8          1     70.0  13.770492              1    1.38          2.83\n",
              "13         3     84.4  13.836066              0    1.41          2.88\n",
              "\n",
              "[64 rows x 6 columns]"
            ]
          },
          "metadata": {
            "tags": []
          },
          "execution_count": 30
        }
      ]
    },
    {
      "cell_type": "code",
      "metadata": {
        "id": "-lcB_lJ6ha8K"
      },
      "source": [
        "# separar la variable que queremos predecir, en nuestro caso el Tiempo de Maraton\n",
        "\n",
        "etiquetas_entrenamiento = datos_entrenamiento.pop('MarathonTime')\n",
        "etiquetas_test = datos_test.pop('MarathonTime')"
      ],
      "execution_count": 31,
      "outputs": []
    },
    {
      "cell_type": "code",
      "metadata": {
        "colab": {
          "base_uri": "https://localhost:8080/"
        },
        "id": "8AQ78u-fhtJp",
        "outputId": "29d7bf48-2f53-4406-d1c2-73d5a4eaaf5e"
      },
      "source": [
        "etiquetas_entrenamiento"
      ],
      "execution_count": 32,
      "outputs": [
        {
          "output_type": "execute_result",
          "data": {
            "text/plain": [
              "54    3.47\n",
              "28    3.15\n",
              "31    3.19\n",
              "84    3.94\n",
              "47    3.35\n",
              "      ... \n",
              "55    3.50\n",
              "20    2.99\n",
              "79    3.90\n",
              "8     2.83\n",
              "13    2.88\n",
              "Name: MarathonTime, Length: 64, dtype: float64"
            ]
          },
          "metadata": {
            "tags": []
          },
          "execution_count": 32
        }
      ]
    },
    {
      "cell_type": "code",
      "metadata": {
        "colab": {
          "base_uri": "https://localhost:8080/",
          "height": 402
        },
        "id": "8Og9QpkGhwJR",
        "outputId": "254bdc6e-c0a8-4dcb-deeb-caa122b59e92"
      },
      "source": [
        "datos_entrenamiento"
      ],
      "execution_count": 33,
      "outputs": [
        {
          "output_type": "execute_result",
          "data": {
            "text/html": [
              "<div>\n",
              "<style scoped>\n",
              "    .dataframe tbody tr th:only-of-type {\n",
              "        vertical-align: middle;\n",
              "    }\n",
              "\n",
              "    .dataframe tbody tr th {\n",
              "        vertical-align: top;\n",
              "    }\n",
              "\n",
              "    .dataframe thead th {\n",
              "        text-align: right;\n",
              "    }\n",
              "</style>\n",
              "<table border=\"1\" class=\"dataframe\">\n",
              "  <thead>\n",
              "    <tr style=\"text-align: right;\">\n",
              "      <th></th>\n",
              "      <th>Category</th>\n",
              "      <th>km4week</th>\n",
              "      <th>sp4week</th>\n",
              "      <th>CrossTraining</th>\n",
              "      <th>Wall21</th>\n",
              "    </tr>\n",
              "  </thead>\n",
              "  <tbody>\n",
              "    <tr>\n",
              "      <th>54</th>\n",
              "      <td>3</td>\n",
              "      <td>70.7</td>\n",
              "      <td>11.783333</td>\n",
              "      <td>0</td>\n",
              "      <td>1.77</td>\n",
              "    </tr>\n",
              "    <tr>\n",
              "      <th>28</th>\n",
              "      <td>2</td>\n",
              "      <td>51.6</td>\n",
              "      <td>13.008403</td>\n",
              "      <td>0</td>\n",
              "      <td>1.50</td>\n",
              "    </tr>\n",
              "    <tr>\n",
              "      <th>31</th>\n",
              "      <td>1</td>\n",
              "      <td>79.4</td>\n",
              "      <td>13.344538</td>\n",
              "      <td>0</td>\n",
              "      <td>1.60</td>\n",
              "    </tr>\n",
              "    <tr>\n",
              "      <th>84</th>\n",
              "      <td>3</td>\n",
              "      <td>55.4</td>\n",
              "      <td>11.043189</td>\n",
              "      <td>0</td>\n",
              "      <td>1.94</td>\n",
              "    </tr>\n",
              "    <tr>\n",
              "      <th>47</th>\n",
              "      <td>2</td>\n",
              "      <td>39.6</td>\n",
              "      <td>12.247423</td>\n",
              "      <td>0</td>\n",
              "      <td>1.67</td>\n",
              "    </tr>\n",
              "    <tr>\n",
              "      <th>...</th>\n",
              "      <td>...</td>\n",
              "      <td>...</td>\n",
              "      <td>...</td>\n",
              "      <td>...</td>\n",
              "      <td>...</td>\n",
              "    </tr>\n",
              "    <tr>\n",
              "      <th>55</th>\n",
              "      <td>1</td>\n",
              "      <td>26.9</td>\n",
              "      <td>13.121951</td>\n",
              "      <td>0</td>\n",
              "      <td>1.67</td>\n",
              "    </tr>\n",
              "    <tr>\n",
              "      <th>20</th>\n",
              "      <td>1</td>\n",
              "      <td>94.5</td>\n",
              "      <td>11.886792</td>\n",
              "      <td>0</td>\n",
              "      <td>1.45</td>\n",
              "    </tr>\n",
              "    <tr>\n",
              "      <th>79</th>\n",
              "      <td>1</td>\n",
              "      <td>53.9</td>\n",
              "      <td>11.802920</td>\n",
              "      <td>0</td>\n",
              "      <td>1.98</td>\n",
              "    </tr>\n",
              "    <tr>\n",
              "      <th>8</th>\n",
              "      <td>1</td>\n",
              "      <td>70.0</td>\n",
              "      <td>13.770492</td>\n",
              "      <td>1</td>\n",
              "      <td>1.38</td>\n",
              "    </tr>\n",
              "    <tr>\n",
              "      <th>13</th>\n",
              "      <td>3</td>\n",
              "      <td>84.4</td>\n",
              "      <td>13.836066</td>\n",
              "      <td>0</td>\n",
              "      <td>1.41</td>\n",
              "    </tr>\n",
              "  </tbody>\n",
              "</table>\n",
              "<p>64 rows × 5 columns</p>\n",
              "</div>"
            ],
            "text/plain": [
              "    Category  km4week    sp4week  CrossTraining  Wall21\n",
              "54         3     70.7  11.783333              0    1.77\n",
              "28         2     51.6  13.008403              0    1.50\n",
              "31         1     79.4  13.344538              0    1.60\n",
              "84         3     55.4  11.043189              0    1.94\n",
              "47         2     39.6  12.247423              0    1.67\n",
              "..       ...      ...        ...            ...     ...\n",
              "55         1     26.9  13.121951              0    1.67\n",
              "20         1     94.5  11.886792              0    1.45\n",
              "79         1     53.9  11.802920              0    1.98\n",
              "8          1     70.0  13.770492              1    1.38\n",
              "13         3     84.4  13.836066              0    1.41\n",
              "\n",
              "[64 rows x 5 columns]"
            ]
          },
          "metadata": {
            "tags": []
          },
          "execution_count": 33
        }
      ]
    },
    {
      "cell_type": "code",
      "metadata": {
        "colab": {
          "base_uri": "https://localhost:8080/"
        },
        "id": "204bTQL5hw42",
        "outputId": "842a38da-e2f6-40ad-cf4d-e6e74f93ad6b"
      },
      "source": [
        "# ENTRENAR EL MODELO MAS SIMPLE - Regresion lineal\n",
        "\n",
        "from sklearn.linear_model import LinearRegression\n",
        "modelo = LinearRegression()\n",
        "modelo.fit(datos_entrenamiento,etiquetas_entrenamiento)"
      ],
      "execution_count": 34,
      "outputs": [
        {
          "output_type": "execute_result",
          "data": {
            "text/plain": [
              "LinearRegression(copy_X=True, fit_intercept=True, n_jobs=None, normalize=False)"
            ]
          },
          "metadata": {
            "tags": []
          },
          "execution_count": 34
        }
      ]
    },
    {
      "cell_type": "code",
      "metadata": {
        "colab": {
          "base_uri": "https://localhost:8080/"
        },
        "id": "3zRGS6x0iF5U",
        "outputId": "7c735353-c170-4c5e-bbd6-fb7d21db04d7"
      },
      "source": [
        "# ver como debia haber centrado, que tan alejado esta de la realidad\n",
        "\n",
        "predicciones = modelo.predict(datos_test)\n",
        "predicciones"
      ],
      "execution_count": 35,
      "outputs": [
        {
          "output_type": "execute_result",
          "data": {
            "text/plain": [
              "array([2.79390706, 2.81599412, 3.05747527, 3.0497715 , 3.0601308 ,\n",
              "       3.29473308, 3.36211907, 3.36226188, 3.17473152, 3.29138286,\n",
              "       3.37757783, 3.5216523 , 3.5919168 , 3.55016407, 3.66416024,\n",
              "       3.85281097])"
            ]
          },
          "metadata": {
            "tags": []
          },
          "execution_count": 35
        }
      ]
    },
    {
      "cell_type": "code",
      "metadata": {
        "colab": {
          "base_uri": "https://localhost:8080/"
        },
        "id": "w_MkBGTUiftw",
        "outputId": "dc268b32-1590-4c26-f2c5-0751eda73c62"
      },
      "source": [
        "# comparar las predicciones con el dataset de test vs el real dato del dataset de test. comparar que onda\n",
        "\n",
        "import numpy as np\n",
        "from sklearn.metrics import mean_squared_error\n",
        "\n",
        "error = np.sqrt(mean_squared_error(etiquetas_test, predicciones))\n",
        "print('Error porcentual del modelo: %f' % (error*100))\n",
        "print('Error porcentual del modelo:', error*100)"
      ],
      "execution_count": 36,
      "outputs": [
        {
          "output_type": "stream",
          "text": [
            "Error porcentual del modelo: 11.030345\n",
            "Error porcentual del modelo: 11.0303447336147\n"
          ],
          "name": "stdout"
        }
      ]
    },
    {
      "cell_type": "code",
      "metadata": {
        "colab": {
          "base_uri": "https://localhost:8080/",
          "height": 106
        },
        "id": "ZIxaHaSvjaLO",
        "outputId": "736d4973-accb-4a31-dc69-6d9991b903c6"
      },
      "source": [
        "# el % del error es 11, mm dependiendo de la problematica, pero teniendo en cuenta lo que es y que es una maraton,, estamos conformes\n",
        "\n",
        "nuevos_datos = pd.DataFrame(np.array([[1, 400, 20, 0, 1.4],[2, 350, 20, 0, 1.6]]), columns = {'Category', 'km4week', 'sp4week', 'CrossTraining', 'Wall21'})\n",
        "nuevos_datos\n"
      ],
      "execution_count": 39,
      "outputs": [
        {
          "output_type": "execute_result",
          "data": {
            "text/html": [
              "<div>\n",
              "<style scoped>\n",
              "    .dataframe tbody tr th:only-of-type {\n",
              "        vertical-align: middle;\n",
              "    }\n",
              "\n",
              "    .dataframe tbody tr th {\n",
              "        vertical-align: top;\n",
              "    }\n",
              "\n",
              "    .dataframe thead th {\n",
              "        text-align: right;\n",
              "    }\n",
              "</style>\n",
              "<table border=\"1\" class=\"dataframe\">\n",
              "  <thead>\n",
              "    <tr style=\"text-align: right;\">\n",
              "      <th></th>\n",
              "      <th>Category</th>\n",
              "      <th>CrossTraining</th>\n",
              "      <th>km4week</th>\n",
              "      <th>sp4week</th>\n",
              "      <th>Wall21</th>\n",
              "    </tr>\n",
              "  </thead>\n",
              "  <tbody>\n",
              "    <tr>\n",
              "      <th>0</th>\n",
              "      <td>1.0</td>\n",
              "      <td>400.0</td>\n",
              "      <td>20.0</td>\n",
              "      <td>0.0</td>\n",
              "      <td>1.4</td>\n",
              "    </tr>\n",
              "    <tr>\n",
              "      <th>1</th>\n",
              "      <td>2.0</td>\n",
              "      <td>350.0</td>\n",
              "      <td>20.0</td>\n",
              "      <td>0.0</td>\n",
              "      <td>1.6</td>\n",
              "    </tr>\n",
              "  </tbody>\n",
              "</table>\n",
              "</div>"
            ],
            "text/plain": [
              "   Category  CrossTraining  km4week  sp4week  Wall21\n",
              "0       1.0          400.0     20.0      0.0     1.4\n",
              "1       2.0          350.0     20.0      0.0     1.6"
            ]
          },
          "metadata": {
            "tags": []
          },
          "execution_count": 39
        }
      ]
    },
    {
      "cell_type": "code",
      "metadata": {
        "colab": {
          "base_uri": "https://localhost:8080/"
        },
        "id": "SxlkX6VIkFSg",
        "outputId": "92d62adb-84ad-4835-abbb-ada475e5bcee"
      },
      "source": [
        "# predecir el tiempo del maraton para los pibitos corredores\n",
        "\n",
        "modelo.predict(nuevos_datos)"
      ],
      "execution_count": 40,
      "outputs": [
        {
          "output_type": "execute_result",
          "data": {
            "text/plain": [
              "array([2.199872  , 2.58999664])"
            ]
          },
          "metadata": {
            "tags": []
          },
          "execution_count": 40
        }
      ]
    },
    {
      "cell_type": "code",
      "metadata": {
        "id": "NdXM2cG4kIca"
      },
      "source": [
        ""
      ],
      "execution_count": null,
      "outputs": []
    }
  ]
}